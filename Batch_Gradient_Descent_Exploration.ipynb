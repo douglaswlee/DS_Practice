{
 "cells": [
  {
   "cell_type": "code",
   "execution_count": 1,
   "metadata": {},
   "outputs": [],
   "source": [
    "import pandas as pd\n",
    "import numpy as np\n",
    "import matplotlib.pyplot as plt\n",
    "\n",
    "plt.style.use('fivethirtyeight')"
   ]
  },
  {
   "cell_type": "markdown",
   "metadata": {},
   "source": [
    "## Let's first prepare some sample data (Note that we are not including an intercept term right now, as the work in this notebook is meant for illustrative purposes)"
   ]
  },
  {
   "cell_type": "code",
   "execution_count": 2,
   "metadata": {},
   "outputs": [],
   "source": [
    "df = pd.read_table('https://stats.idre.ucla.edu/wp-content/uploads/2016/02/p054.txt')\n",
    "df.columns = df.columns.map(str.strip)"
   ]
  },
  {
   "cell_type": "code",
   "execution_count": 3,
   "metadata": {},
   "outputs": [],
   "source": [
    "x = df[['X1', 'X2']]\n",
    "y = df['Y']"
   ]
  },
  {
   "cell_type": "markdown",
   "metadata": {},
   "source": [
    "## What scikit-learn outputs"
   ]
  },
  {
   "cell_type": "code",
   "execution_count": 4,
   "metadata": {},
   "outputs": [],
   "source": [
    "from sklearn.linear_model import LinearRegression\n",
    "lr = LinearRegression(fit_intercept = False)"
   ]
  },
  {
   "cell_type": "code",
   "execution_count": 5,
   "metadata": {},
   "outputs": [],
   "source": [
    "lrfit = lr.fit(x,y)"
   ]
  },
  {
   "cell_type": "code",
   "execution_count": 6,
   "metadata": {},
   "outputs": [
    {
     "data": {
      "text/plain": [
       "array([0.92658824, 0.04554397])"
      ]
     },
     "execution_count": 6,
     "metadata": {},
     "output_type": "execute_result"
    }
   ],
   "source": [
    "lrfit.coef_"
   ]
  },
  {
   "cell_type": "code",
   "execution_count": 7,
   "metadata": {},
   "outputs": [
    {
     "data": {
      "text/plain": [
       "26.54997385929709"
      ]
     },
     "execution_count": 7,
     "metadata": {},
     "output_type": "execute_result"
    }
   ],
   "source": [
    "ypred = lrfit.predict(x) # predictions \n",
    "mse = sum((ypred - y)**2)/(2*len(x)) # mean squared error\n",
    "mse"
   ]
  },
  {
   "cell_type": "markdown",
   "metadata": {},
   "source": [
    "## Normal Equation\n",
    "\n",
    "One can use the [normal equation](https://en.wikipedia.org/wiki/Ordinary_least_squares#Matrix/vector_formulation) for a closed-form solution for linear regression coefficients using a least-squares loss function (i.e., the mean squared error or M.S.E.). For large datasets this may not be straightforward, however, given that a matrix inverse must be computed."
   ]
  },
  {
   "cell_type": "code",
   "execution_count": 8,
   "metadata": {},
   "outputs": [],
   "source": [
    "def normaleqn_lr(x,y):\n",
    "    '''\n",
    "    Given: Feature matrix x and Response y\n",
    "    Return: Coefficient weights b as calculated by the normal equation\n",
    "    '''\n",
    "    return np.dot(np.linalg.inv(np.dot(x.T, x)), np.dot(x.T,y))"
   ]
  },
  {
   "cell_type": "code",
   "execution_count": 9,
   "metadata": {},
   "outputs": [
    {
     "data": {
      "text/plain": [
       "array([0.92658824, 0.04554397])"
      ]
     },
     "execution_count": 9,
     "metadata": {},
     "output_type": "execute_result"
    }
   ],
   "source": [
    "b_hat = normaleqn_lr(x,y)\n",
    "b_hat"
   ]
  },
  {
   "cell_type": "markdown",
   "metadata": {},
   "source": [
    "Let's look at the mean-squared error (m.s.e) of the linear regression coefficients given features x and response y from the normal equation. These coefficients minimize M.S.E. for the given features/response"
   ]
  },
  {
   "cell_type": "code",
   "execution_count": 10,
   "metadata": {},
   "outputs": [],
   "source": [
    "def mse_lr(b, x, y):\n",
    "    '''\n",
    "    Given: Coefficient weights b, Feature matrix x, and Response y\n",
    "    Return: Mean Square Error (M.S.E.) msqerr \n",
    "    M.S.E. is the mean of squared differences between the response y and prediction from x and current b)\n",
    "    '''\n",
    "    err = y - np.dot(b, x.T)\n",
    "    msqerr = (1/(2*len(x))) * sum(err**2) # divide by 2, just convention so it disappears after differentiating\n",
    "    return msqerr"
   ]
  },
  {
   "cell_type": "code",
   "execution_count": 11,
   "metadata": {},
   "outputs": [
    {
     "data": {
      "text/plain": [
       "26.54997385929708"
      ]
     },
     "execution_count": 11,
     "metadata": {},
     "output_type": "execute_result"
    }
   ],
   "source": [
    "mse_lr(b_hat, x, y)"
   ]
  },
  {
   "cell_type": "markdown",
   "metadata": {},
   "source": [
    "## Now, let's apply (batch) gradient descent (BGD) to a least-squares loss function. First let's write a python function to perform BGD for linear regression, using a constant learning rate:"
   ]
  },
  {
   "cell_type": "code",
   "execution_count": 12,
   "metadata": {},
   "outputs": [],
   "source": [
    "def bgd_lr(b, x, y, lam, tol):\n",
    "    '''\n",
    "    Given: \n",
    "        Initial coefficients b\n",
    "        Feature matrix x\n",
    "        Response y\n",
    "        (Constant) Learning rate lam\n",
    "        Stopping criterion tol\n",
    "    Return:\n",
    "        Final coefficients b\n",
    "        Iteration-by-iteration coefficients b_all\n",
    "        Iteration-by-iteration value of loss function f_loss\n",
    "        Number of iterations to converge count\n",
    "    '''\n",
    "    \n",
    "    # Initialize the count and comparison to stopping criterion (this will be the difference in norm between\n",
    "    # current and previous coefficient weights)    \n",
    "    count = 0\n",
    "    #diff = 999999\n",
    "    gr_norm = 999999\n",
    "    \n",
    "    # Initialize the \"history\" of the coefficient weights and M.S.E.'s\n",
    "    b_all = b\n",
    "    f_loss = [mse_lr(b, x, y)]\n",
    "    \n",
    "    # Iterate as follows:\n",
    "    # -Compute gradient at current values of b, x, y\n",
    "    # -Update the value of b accordingly, using a constant learning rate lam\n",
    "    # -Compute norm between updated b and previous b\n",
    "    # -Continue until gradient is within tolerance (i.e., declining to zero)\n",
    "    while gr_norm >= tol:\n",
    "        grad = -(1/len(x)) * np.dot(x.T, y-np.dot(b, x.T))\n",
    "        gr_norm = np.linalg.norm(grad)\n",
    "        \n",
    "        b_new = b - lam * grad        \n",
    "        diff = np.linalg.norm(b_new - b)\n",
    "        \n",
    "        b = b_new\n",
    "        b_all = np.column_stack((b_all, b_new))\n",
    "        f_loss.append(mse_lr(b, x, y))\n",
    "        \n",
    "        count += 1\n",
    "    return b, b_all, f_loss, count"
   ]
  },
  {
   "cell_type": "markdown",
   "metadata": {},
   "source": [
    "Now let's specify an initial set of coefficients and run with a learning rate = $10^{-4}$ and stopping criterion =$10^{-5}$"
   ]
  },
  {
   "cell_type": "code",
   "execution_count": 13,
   "metadata": {},
   "outputs": [],
   "source": [
    "b_init = np.array([1,1])"
   ]
  },
  {
   "cell_type": "code",
   "execution_count": 14,
   "metadata": {
    "scrolled": false
   },
   "outputs": [],
   "source": [
    "b_final, b_all, f_loss, count = bgd_lr(b_init, x, y, .0001, .00001)"
   ]
  },
  {
   "cell_type": "code",
   "execution_count": 15,
   "metadata": {},
   "outputs": [
    {
     "data": {
      "text/plain": [
       "array([0.92658815, 0.04554408])"
      ]
     },
     "execution_count": 15,
     "metadata": {},
     "output_type": "execute_result"
    }
   ],
   "source": [
    "b_final # final coefficients, actual: (0.92658824, 0.04554397)"
   ]
  },
  {
   "cell_type": "code",
   "execution_count": 16,
   "metadata": {},
   "outputs": [
    {
     "data": {
      "text/plain": [
       "2214"
      ]
     },
     "execution_count": 16,
     "metadata": {},
     "output_type": "execute_result"
    }
   ],
   "source": [
    "count # number of gradient descent iterations"
   ]
  },
  {
   "cell_type": "code",
   "execution_count": 17,
   "metadata": {},
   "outputs": [
    {
     "data": {
      "text/plain": [
       "26.549973859297786"
      ]
     },
     "execution_count": 17,
     "metadata": {},
     "output_type": "execute_result"
    }
   ],
   "source": [
    "f_loss[-1] # M.S.E. using the final coefficients, actual: 26.54997385929708"
   ]
  },
  {
   "cell_type": "markdown",
   "metadata": {},
   "source": [
    "Ok, that looks pretty good, and it didn't take TOO long to get that close."
   ]
  },
  {
   "cell_type": "markdown",
   "metadata": {},
   "source": [
    "## Effects of scaling features\n",
    "\n",
    "First, the scikit-learn outputs"
   ]
  },
  {
   "cell_type": "code",
   "execution_count": 18,
   "metadata": {},
   "outputs": [],
   "source": [
    "from sklearn.preprocessing import StandardScaler"
   ]
  },
  {
   "cell_type": "code",
   "execution_count": 19,
   "metadata": {},
   "outputs": [],
   "source": [
    "sc = StandardScaler()\n",
    "xsc = sc.fit_transform(x)"
   ]
  },
  {
   "cell_type": "code",
   "execution_count": 20,
   "metadata": {},
   "outputs": [],
   "source": [
    "lrfit_sc = lr.fit(xsc, y)"
   ]
  },
  {
   "cell_type": "code",
   "execution_count": 21,
   "metadata": {},
   "outputs": [
    {
     "data": {
      "text/plain": [
       "array([10.21544717, -0.60341119])"
      ]
     },
     "execution_count": 21,
     "metadata": {},
     "output_type": "execute_result"
    }
   ],
   "source": [
    "lrfit_sc.coef_"
   ]
  },
  {
   "cell_type": "code",
   "execution_count": 22,
   "metadata": {},
   "outputs": [
    {
     "data": {
      "text/plain": [
       "2111.431619761391"
      ]
     },
     "execution_count": 22,
     "metadata": {},
     "output_type": "execute_result"
    }
   ],
   "source": [
    "ypred = lrfit_sc.predict(xsc) # predictions \n",
    "mse = sum((ypred - y)**2)/(2*len(xsc)) # mean squared error\n",
    "mse"
   ]
  },
  {
   "cell_type": "markdown",
   "metadata": {},
   "source": [
    "Now, the normal equation output"
   ]
  },
  {
   "cell_type": "code",
   "execution_count": 23,
   "metadata": {},
   "outputs": [
    {
     "data": {
      "text/plain": [
       "array([10.21544717, -0.60341119])"
      ]
     },
     "execution_count": 23,
     "metadata": {},
     "output_type": "execute_result"
    }
   ],
   "source": [
    "# Coefficients\n",
    "b_hat_sc = normaleqn_lr(xsc,y)\n",
    "b_hat_sc"
   ]
  },
  {
   "cell_type": "code",
   "execution_count": 24,
   "metadata": {},
   "outputs": [
    {
     "data": {
      "text/plain": [
       "2111.431619761391"
      ]
     },
     "execution_count": 24,
     "metadata": {},
     "output_type": "execute_result"
    }
   ],
   "source": [
    "# MSE\n",
    "mse_lr(b_hat_sc, xsc, y)"
   ]
  },
  {
   "cell_type": "markdown",
   "metadata": {},
   "source": [
    "Finally, the batch gradient descent (w/constant LR) output"
   ]
  },
  {
   "cell_type": "code",
   "execution_count": 25,
   "metadata": {},
   "outputs": [],
   "source": [
    "b_final_sc, b_all_sc, f_loss_sc, count_sc = bgd_lr(b_init, xsc, y, 1, .00001)"
   ]
  },
  {
   "cell_type": "code",
   "execution_count": 26,
   "metadata": {},
   "outputs": [
    {
     "data": {
      "text/plain": [
       "array([10.21544642, -0.60340687])"
      ]
     },
     "execution_count": 26,
     "metadata": {},
     "output_type": "execute_result"
    }
   ],
   "source": [
    "b_final_sc # final coefficients, actual: (10.21544717, -0.60341119)"
   ]
  },
  {
   "cell_type": "code",
   "execution_count": 27,
   "metadata": {},
   "outputs": [
    {
     "data": {
      "text/plain": [
       "25"
      ]
     },
     "execution_count": 27,
     "metadata": {},
     "output_type": "execute_result"
    }
   ],
   "source": [
    "count_sc # number of iterations"
   ]
  },
  {
   "cell_type": "code",
   "execution_count": 28,
   "metadata": {},
   "outputs": [
    {
     "data": {
      "text/plain": [
       "2111.4316197614"
      ]
     },
     "execution_count": 28,
     "metadata": {},
     "output_type": "execute_result"
    }
   ],
   "source": [
    "f_loss_sc[-1] # M.S.E. using the final coefficients, actual: 2111.431619761391"
   ]
  },
  {
   "cell_type": "markdown",
   "metadata": {},
   "source": [
    "Here we see the impact of scaling the features on convergence of gradient descent for finding the linear regression coefficients -- primarily how many fewer iterations we need for convergence (25 vs. 2214!)"
   ]
  },
  {
   "cell_type": "markdown",
   "metadata": {},
   "source": [
    "## Effects of the Initial Guess\n",
    "\n",
    "Let's now return to the non-scaled features, just to check out what happens if we start with a different initial guess for the coefficients. FIrst with constant learning rate."
   ]
  },
  {
   "cell_type": "code",
   "execution_count": 29,
   "metadata": {},
   "outputs": [],
   "source": [
    "b_init2 = [10, 10]"
   ]
  },
  {
   "cell_type": "code",
   "execution_count": 30,
   "metadata": {},
   "outputs": [],
   "source": [
    "b_final3, b_all3, f_loss3, count3 = bgd_lr(b_init2, x, y, .0001, .00001)"
   ]
  },
  {
   "cell_type": "code",
   "execution_count": 31,
   "metadata": {},
   "outputs": [
    {
     "data": {
      "text/plain": [
       "array([0.92658815, 0.04554408])"
      ]
     },
     "execution_count": 31,
     "metadata": {},
     "output_type": "execute_result"
    }
   ],
   "source": [
    "b_final3 # final coefficients, starting from (1,1): (0.92658815, 0.04554408)"
   ]
  },
  {
   "cell_type": "code",
   "execution_count": 32,
   "metadata": {},
   "outputs": [
    {
     "data": {
      "text/plain": [
       "2372"
      ]
     },
     "execution_count": 32,
     "metadata": {},
     "output_type": "execute_result"
    }
   ],
   "source": [
    "count3 # 2214 starting from (1,1)"
   ]
  },
  {
   "cell_type": "code",
   "execution_count": 33,
   "metadata": {},
   "outputs": [
    {
     "data": {
      "text/plain": [
       "26.54997385929779"
      ]
     },
     "execution_count": 33,
     "metadata": {},
     "output_type": "execute_result"
    }
   ],
   "source": [
    "f_loss3[-1] # M.S.E. using the final coefficients, starting from (1,1): 26.549973859297786"
   ]
  },
  {
   "cell_type": "markdown",
   "metadata": {},
   "source": [
    "Not bad, again, and we are basically in the same place we ended up starting from (1,1). We have taken a bit longer (though surprisingly not by a lot) to converge than when we started at (1,1) which is much closer to the actual coefficients. Let's plot now."
   ]
  },
  {
   "cell_type": "code",
   "execution_count": 34,
   "metadata": {},
   "outputs": [
    {
     "name": "stdout",
     "output_type": "stream",
     "text": [
      "[1644.9166666666667, 142.94608567367112]\n",
      "[664266.0166666666, 41503.66523924675]\n"
     ]
    }
   ],
   "source": [
    "# The M.S.E. from our initial guesses of the coefficients differ quite a bit\n",
    "print(f_loss[0:2])\n",
    "print(f_loss3[0:2])"
   ]
  },
  {
   "cell_type": "code",
   "execution_count": 35,
   "metadata": {},
   "outputs": [
    {
     "data": {
      "text/plain": [
       "<matplotlib.legend.Legend at 0x7fe9e0b9e240>"
      ]
     },
     "execution_count": 35,
     "metadata": {},
     "output_type": "execute_result"
    },
    {
     "data": {
      "image/png": "[encoded data removed]",
      "text/plain": [
       "<Figure size 720x432 with 1 Axes>"
      ]
     },
     "metadata": {},
     "output_type": "display_data"
    }
   ],
   "source": [
    "plt.figure(figsize=(10,6))\n",
    "plt.plot(f_loss[2:])\n",
    "plt.plot(f_loss3[2:])\n",
    "plt.ylabel('MSE')\n",
    "plt.xlabel('Iteration')\n",
    "plt.legend(['Constant LR, start at (1, 1)', 'Constant LR, start at (10, 10)'])"
   ]
  },
  {
   "cell_type": "markdown",
   "metadata": {},
   "source": [
    "Again, while it doesn't take substantially longer to converge in this case, we can clearly observe that initially the coefficient estimates result in much greater error -- which are nevertheless corrected quite rapidly."
   ]
  },
  {
   "cell_type": "markdown",
   "metadata": {},
   "source": [
    "## Effects of (constant) Learning Rate\n",
    "\n",
    "Let's begin with one that is much too high (high in this case is 0.1)"
   ]
  },
  {
   "cell_type": "code",
   "execution_count": 36,
   "metadata": {},
   "outputs": [
    {
     "name": "stderr",
     "output_type": "stream",
     "text": [
      "/home/ubuntu/miniconda3/lib/python3.6/site-packages/ipykernel_launcher.py:35: RuntimeWarning: invalid value encountered in subtract\n"
     ]
    }
   ],
   "source": [
    "b_final5, b_all5, f_loss5, count5 = bgd_lr(b_init, x, y, .1, .00001)"
   ]
  },
  {
   "cell_type": "code",
   "execution_count": 37,
   "metadata": {},
   "outputs": [
    {
     "data": {
      "text/plain": [
       "array([nan, nan])"
      ]
     },
     "execution_count": 37,
     "metadata": {},
     "output_type": "execute_result"
    }
   ],
   "source": [
    "b_final5"
   ]
  },
  {
   "cell_type": "code",
   "execution_count": 38,
   "metadata": {},
   "outputs": [
    {
     "data": {
      "text/plain": [
       "[<matplotlib.lines.Line2D at 0x7fe9e0b2cf28>]"
      ]
     },
     "execution_count": 38,
     "metadata": {},
     "output_type": "execute_result"
    },
    {
     "data": {
      "image/png": "[encoded data removed]",
      "text/plain": [
       "<Figure size 720x432 with 1 Axes>"
      ]
     },
     "metadata": {},
     "output_type": "display_data"
    }
   ],
   "source": [
    "plt.figure(figsize=(10,6))\n",
    "plt.xlabel('Iteration')\n",
    "plt.ylabel('MSE')\n",
    "plt.plot(f_loss5)"
   ]
  },
  {
   "cell_type": "markdown",
   "metadata": {},
   "source": [
    "Batch gradient descent clearly diverges here and the M.S.E. explodes."
   ]
  },
  {
   "cell_type": "markdown",
   "metadata": {},
   "source": [
    "Now what if we choose a learning rate that's a little too small (in this case $10^{-6}$)? (Note that you have to make sure to change the stopping criterion as well in order to avoid any kind of false convergence if the learning rate is smaller than the criterion)"
   ]
  },
  {
   "cell_type": "code",
   "execution_count": 40,
   "metadata": {},
   "outputs": [],
   "source": [
    "b_final6, b_all6, f_loss6, count6 = bgd_lr(b_init, x, y, .000001, .00000001)"
   ]
  },
  {
   "cell_type": "code",
   "execution_count": 41,
   "metadata": {},
   "outputs": [
    {
     "data": {
      "text/plain": [
       "array([0.92658824, 0.04554397])"
      ]
     },
     "execution_count": 41,
     "metadata": {},
     "output_type": "execute_result"
    }
   ],
   "source": [
    "b_final6"
   ]
  },
  {
   "cell_type": "code",
   "execution_count": 42,
   "metadata": {},
   "outputs": [
    {
     "data": {
      "text/plain": [
       "26.54997385929708"
      ]
     },
     "execution_count": 42,
     "metadata": {},
     "output_type": "execute_result"
    }
   ],
   "source": [
    "f_loss6[-1]"
   ]
  },
  {
   "cell_type": "code",
   "execution_count": 43,
   "metadata": {},
   "outputs": [
    {
     "data": {
      "text/plain": [
       "321573"
      ]
     },
     "execution_count": 43,
     "metadata": {},
     "output_type": "execute_result"
    }
   ],
   "source": [
    "count6"
   ]
  },
  {
   "cell_type": "markdown",
   "metadata": {},
   "source": [
    "Looks good, but it took a *long* time to get there (below is a comparison between two constant LRs for the number of gradient descent iterations to converge for the faster LR)"
   ]
  },
  {
   "cell_type": "code",
   "execution_count": 45,
   "metadata": {},
   "outputs": [
    {
     "data": {
      "text/plain": [
       "<matplotlib.legend.Legend at 0x7fe9da0d5b00>"
      ]
     },
     "execution_count": 45,
     "metadata": {},
     "output_type": "execute_result"
    },
    {
     "data": {
      "image/png": "[encoded data removed]",
      "text/plain": [
       "<Figure size 720x432 with 1 Axes>"
      ]
     },
     "metadata": {},
     "output_type": "display_data"
    }
   ],
   "source": [
    "plt.figure(figsize=(10,6))\n",
    "plt.xlabel('Iteration')\n",
    "plt.ylabel('MSE')\n",
    "plt.plot(f_loss6)\n",
    "plt.plot(f_loss)\n",
    "plt.legend(['LR = $10^{-4}$', 'LR = $10^{-6}$'])"
   ]
  },
  {
   "cell_type": "code",
   "execution_count": null,
   "metadata": {},
   "outputs": [],
   "source": []
  }
 ],
 "metadata": {
  "kernelspec": {
   "display_name": "Python 3",
   "language": "python",
   "name": "python3"
  },
  "language_info": {
   "codemirror_mode": {
    "name": "ipython",
    "version": 3
   },
   "file_extension": ".py",
   "mimetype": "text/x-python",
   "name": "python",
   "nbconvert_exporter": "python",
   "pygments_lexer": "ipython3",
   "version": "3.6.5"
  }
 },
 "nbformat": 4,
 "nbformat_minor": 2
}
