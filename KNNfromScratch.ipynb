{
 "cells": [
  {
   "cell_type": "code",
   "execution_count": 1,
   "metadata": {},
   "outputs": [],
   "source": [
    "import pandas as pd\n",
    "import numpy as np\n",
    "import matplotlib.pyplot as plt\n",
    "plt.style.use('fivethirtyeight')"
   ]
  },
  {
   "cell_type": "markdown",
   "metadata": {},
   "source": [
    "Toy data for illustrative purposes"
   ]
  },
  {
   "cell_type": "code",
   "execution_count": 2,
   "metadata": {},
   "outputs": [],
   "source": [
    "train_df = pd.read_csv(\"http://soph.info/metis/nyc18_ds15/wookiee-train.csv\", index_col=0)\n",
    "test_df = pd.read_csv(\"http://soph.info/metis/nyc18_ds15/wookiee-test.csv\", index_col=0)"
   ]
  },
  {
   "cell_type": "markdown",
   "metadata": {},
   "source": [
    "Set up for modeling"
   ]
  },
  {
   "cell_type": "code",
   "execution_count": 3,
   "metadata": {},
   "outputs": [],
   "source": [
    "x_train = train_df.drop('wookieecolor', axis=1)\n",
    "y_train = train_df['wookieecolor']\n",
    "\n",
    "x_test = test_df.drop('wookieecolor', axis=1)\n",
    "y_test = test_df['wookieecolor']"
   ]
  },
  {
   "cell_type": "markdown",
   "metadata": {},
   "source": [
    "## A crude class that carries out KNN"
   ]
  },
  {
   "cell_type": "code",
   "execution_count": 75,
   "metadata": {},
   "outputs": [],
   "source": [
    "class KNN():\n",
    "    \n",
    "    def __init__(self, K=3):\n",
    "        \n",
    "        # default setting for K (number of neighbors)\n",
    "        self.K = K\n",
    "        \n",
    "        # predicted labels (initialize as empty)\n",
    "        self.pred = []\n",
    "    \n",
    "    def predict(self, x_train, y_train, x_test):\n",
    "        \n",
    "        # loop to carry out KNN classification test observations:\n",
    "        # for each test observation:\n",
    "        # 1) get distance to each train observation\n",
    "        # 2) label according to most frequent label of K closest neighbors in training observations\n",
    "        for row in range(len(x_test)):\n",
    "            dists = []\n",
    "            for row2 in range(len(x_train)):\n",
    "                sum_sq_d = sum((x_test.iloc[row,:] - x_train.iloc[row2, :])**2)\n",
    "                dists.append(sum_sq_d**0.5)\n",
    "            self.pred.append(y_train[np.argsort(dists)[:self.K]].mode().values[0])\n",
    "        \n",
    "        # return predictions for test data\n",
    "        return self.pred\n",
    "    \n",
    "    def score(self, y):\n",
    "        \n",
    "        # return accuracy score (% correctly predicted compared to true labels) \n",
    "        return sum(self.pred == y)/len(y)"
   ]
  },
  {
   "cell_type": "code",
   "execution_count": 61,
   "metadata": {},
   "outputs": [],
   "source": [
    "knn = KNN(K=5)"
   ]
  },
  {
   "cell_type": "code",
   "execution_count": 62,
   "metadata": {},
   "outputs": [],
   "source": [
    "y_pred = knn.predict(x_train, y_train, x_test)"
   ]
  },
  {
   "cell_type": "code",
   "execution_count": 63,
   "metadata": {},
   "outputs": [
    {
     "data": {
      "text/plain": [
       "['chartreuse',\n",
       " 'red',\n",
       " 'red',\n",
       " 'blue',\n",
       " 'red',\n",
       " 'white',\n",
       " 'white',\n",
       " 'red',\n",
       " 'blue',\n",
       " 'red',\n",
       " 'white',\n",
       " 'white',\n",
       " 'white',\n",
       " 'chartreuse',\n",
       " 'red',\n",
       " 'chartreuse',\n",
       " 'red',\n",
       " 'red',\n",
       " 'white',\n",
       " 'red',\n",
       " 'red',\n",
       " 'red',\n",
       " 'chartreuse',\n",
       " 'red',\n",
       " 'white',\n",
       " 'blue',\n",
       " 'white',\n",
       " 'white',\n",
       " 'white',\n",
       " 'red',\n",
       " 'red',\n",
       " 'chartreuse',\n",
       " 'red',\n",
       " 'blue',\n",
       " 'red',\n",
       " 'red',\n",
       " 'white',\n",
       " 'red',\n",
       " 'red',\n",
       " 'chartreuse',\n",
       " 'red',\n",
       " 'blue',\n",
       " 'red',\n",
       " 'red',\n",
       " 'chartreuse',\n",
       " 'red',\n",
       " 'white',\n",
       " 'red',\n",
       " 'red',\n",
       " 'chartreuse',\n",
       " 'white',\n",
       " 'red',\n",
       " 'blue',\n",
       " 'chartreuse',\n",
       " 'white',\n",
       " 'white',\n",
       " 'white',\n",
       " 'red',\n",
       " 'red',\n",
       " 'blue',\n",
       " 'white',\n",
       " 'red',\n",
       " 'white',\n",
       " 'red',\n",
       " 'blue',\n",
       " 'white',\n",
       " 'white',\n",
       " 'red',\n",
       " 'blue',\n",
       " 'white',\n",
       " 'blue',\n",
       " 'blue',\n",
       " 'red',\n",
       " 'blue',\n",
       " 'white',\n",
       " 'red',\n",
       " 'blue',\n",
       " 'white',\n",
       " 'red',\n",
       " 'red',\n",
       " 'red',\n",
       " 'white',\n",
       " 'red',\n",
       " 'red',\n",
       " 'white',\n",
       " 'red',\n",
       " 'blue',\n",
       " 'red',\n",
       " 'blue',\n",
       " 'red',\n",
       " 'red',\n",
       " 'white',\n",
       " 'blue',\n",
       " 'white',\n",
       " 'red',\n",
       " 'red',\n",
       " 'white',\n",
       " 'white',\n",
       " 'white',\n",
       " 'white',\n",
       " 'white',\n",
       " 'white',\n",
       " 'white',\n",
       " 'red',\n",
       " 'red',\n",
       " 'red',\n",
       " 'red',\n",
       " 'blue',\n",
       " 'white',\n",
       " 'red',\n",
       " 'white',\n",
       " 'chartreuse',\n",
       " 'red',\n",
       " 'red',\n",
       " 'red',\n",
       " 'red',\n",
       " 'white',\n",
       " 'red',\n",
       " 'red',\n",
       " 'red',\n",
       " 'chartreuse',\n",
       " 'blue',\n",
       " 'white',\n",
       " 'blue',\n",
       " 'red',\n",
       " 'white',\n",
       " 'white',\n",
       " 'blue',\n",
       " 'blue',\n",
       " 'red',\n",
       " 'chartreuse',\n",
       " 'red',\n",
       " 'chartreuse',\n",
       " 'red',\n",
       " 'white',\n",
       " 'white',\n",
       " 'blue',\n",
       " 'red',\n",
       " 'red',\n",
       " 'white',\n",
       " 'white',\n",
       " 'white',\n",
       " 'red',\n",
       " 'white',\n",
       " 'red',\n",
       " 'blue',\n",
       " 'blue',\n",
       " 'red',\n",
       " 'chartreuse',\n",
       " 'red',\n",
       " 'red',\n",
       " 'blue',\n",
       " 'white',\n",
       " 'red',\n",
       " 'white',\n",
       " 'red',\n",
       " 'white',\n",
       " 'white',\n",
       " 'white',\n",
       " 'white',\n",
       " 'blue',\n",
       " 'blue',\n",
       " 'white',\n",
       " 'red',\n",
       " 'red',\n",
       " 'red',\n",
       " 'blue',\n",
       " 'white',\n",
       " 'red',\n",
       " 'white',\n",
       " 'blue',\n",
       " 'white',\n",
       " 'white',\n",
       " 'red',\n",
       " 'red',\n",
       " 'white',\n",
       " 'red',\n",
       " 'red',\n",
       " 'white',\n",
       " 'white',\n",
       " 'white',\n",
       " 'white',\n",
       " 'red',\n",
       " 'red',\n",
       " 'white',\n",
       " 'blue',\n",
       " 'blue',\n",
       " 'red',\n",
       " 'blue',\n",
       " 'red',\n",
       " 'white',\n",
       " 'chartreuse',\n",
       " 'white',\n",
       " 'white',\n",
       " 'blue',\n",
       " 'red',\n",
       " 'white',\n",
       " 'white',\n",
       " 'red',\n",
       " 'white',\n",
       " 'blue',\n",
       " 'white',\n",
       " 'chartreuse',\n",
       " 'chartreuse',\n",
       " 'red',\n",
       " 'blue',\n",
       " 'blue',\n",
       " 'red',\n",
       " 'blue',\n",
       " 'red',\n",
       " 'white',\n",
       " 'white',\n",
       " 'red',\n",
       " 'white',\n",
       " 'red',\n",
       " 'white',\n",
       " 'red',\n",
       " 'red',\n",
       " 'white',\n",
       " 'red',\n",
       " 'chartreuse',\n",
       " 'red',\n",
       " 'white',\n",
       " 'red',\n",
       " 'blue',\n",
       " 'white',\n",
       " 'red',\n",
       " 'blue',\n",
       " 'red',\n",
       " 'red',\n",
       " 'white',\n",
       " 'white',\n",
       " 'red',\n",
       " 'red',\n",
       " 'white',\n",
       " 'white',\n",
       " 'chartreuse',\n",
       " 'white',\n",
       " 'red',\n",
       " 'blue',\n",
       " 'white',\n",
       " 'white',\n",
       " 'red',\n",
       " 'chartreuse',\n",
       " 'red',\n",
       " 'white',\n",
       " 'red',\n",
       " 'blue',\n",
       " 'red',\n",
       " 'chartreuse']"
      ]
     },
     "execution_count": 63,
     "metadata": {},
     "output_type": "execute_result"
    }
   ],
   "source": [
    "y_pred"
   ]
  },
  {
   "cell_type": "code",
   "execution_count": 64,
   "metadata": {},
   "outputs": [
    {
     "data": {
      "text/plain": [
       "0.744"
      ]
     },
     "execution_count": 64,
     "metadata": {},
     "output_type": "execute_result"
    }
   ],
   "source": [
    "knn.score(y_test)"
   ]
  },
  {
   "cell_type": "markdown",
   "metadata": {},
   "source": [
    "## Compare to the results from scikit-learn"
   ]
  },
  {
   "cell_type": "code",
   "execution_count": 65,
   "metadata": {},
   "outputs": [],
   "source": [
    "from sklearn.neighbors import KNeighborsClassifier"
   ]
  },
  {
   "cell_type": "code",
   "execution_count": 66,
   "metadata": {},
   "outputs": [],
   "source": [
    "knn2 = KNeighborsClassifier(n_neighbors = 5)"
   ]
  },
  {
   "cell_type": "code",
   "execution_count": 67,
   "metadata": {},
   "outputs": [
    {
     "data": {
      "text/plain": [
       "KNeighborsClassifier(algorithm='auto', leaf_size=30, metric='minkowski',\n",
       "           metric_params=None, n_jobs=1, n_neighbors=5, p=2,\n",
       "           weights='uniform')"
      ]
     },
     "execution_count": 67,
     "metadata": {},
     "output_type": "execute_result"
    }
   ],
   "source": [
    "knn2.fit(x_train, y_train)"
   ]
  },
  {
   "cell_type": "code",
   "execution_count": 68,
   "metadata": {},
   "outputs": [
    {
     "data": {
      "text/plain": [
       "array(['chartreuse', 'red', 'red', 'blue', 'red', 'white', 'white', 'red',\n",
       "       'blue', 'red', 'white', 'white', 'white', 'chartreuse', 'red',\n",
       "       'chartreuse', 'red', 'red', 'white', 'red', 'red', 'red',\n",
       "       'chartreuse', 'red', 'white', 'blue', 'white', 'white', 'white',\n",
       "       'red', 'red', 'chartreuse', 'red', 'blue', 'red', 'red', 'white',\n",
       "       'red', 'red', 'chartreuse', 'red', 'blue', 'red', 'red',\n",
       "       'chartreuse', 'red', 'white', 'red', 'red', 'chartreuse', 'white',\n",
       "       'red', 'blue', 'chartreuse', 'white', 'white', 'white', 'red',\n",
       "       'red', 'blue', 'white', 'red', 'white', 'red', 'blue', 'white',\n",
       "       'white', 'red', 'blue', 'white', 'blue', 'blue', 'red', 'blue',\n",
       "       'white', 'red', 'blue', 'white', 'red', 'red', 'red', 'white',\n",
       "       'red', 'red', 'white', 'red', 'blue', 'red', 'blue', 'red', 'red',\n",
       "       'white', 'blue', 'white', 'red', 'red', 'white', 'white', 'white',\n",
       "       'white', 'white', 'white', 'white', 'red', 'red', 'red', 'red',\n",
       "       'blue', 'white', 'red', 'white', 'chartreuse', 'red', 'red', 'red',\n",
       "       'red', 'white', 'red', 'red', 'red', 'chartreuse', 'blue', 'white',\n",
       "       'blue', 'red', 'white', 'white', 'blue', 'blue', 'red',\n",
       "       'chartreuse', 'red', 'chartreuse', 'red', 'white', 'white', 'blue',\n",
       "       'red', 'red', 'white', 'white', 'white', 'red', 'white', 'red',\n",
       "       'blue', 'blue', 'red', 'chartreuse', 'red', 'red', 'blue', 'white',\n",
       "       'red', 'white', 'red', 'white', 'white', 'white', 'white', 'blue',\n",
       "       'blue', 'white', 'red', 'red', 'red', 'blue', 'white', 'red',\n",
       "       'white', 'blue', 'white', 'white', 'red', 'red', 'white', 'red',\n",
       "       'red', 'white', 'white', 'white', 'white', 'red', 'red', 'white',\n",
       "       'blue', 'blue', 'red', 'blue', 'red', 'white', 'chartreuse',\n",
       "       'white', 'white', 'blue', 'red', 'white', 'white', 'red', 'white',\n",
       "       'blue', 'white', 'chartreuse', 'chartreuse', 'red', 'blue', 'blue',\n",
       "       'red', 'blue', 'red', 'white', 'white', 'red', 'white', 'red',\n",
       "       'white', 'red', 'red', 'white', 'red', 'chartreuse', 'red',\n",
       "       'white', 'red', 'blue', 'white', 'red', 'blue', 'red', 'red',\n",
       "       'white', 'white', 'red', 'red', 'white', 'white', 'chartreuse',\n",
       "       'white', 'red', 'blue', 'white', 'white', 'red', 'chartreuse',\n",
       "       'red', 'white', 'red', 'blue', 'red', 'chartreuse'], dtype=object)"
      ]
     },
     "execution_count": 68,
     "metadata": {},
     "output_type": "execute_result"
    }
   ],
   "source": [
    "knn2.predict(x_test)"
   ]
  },
  {
   "cell_type": "code",
   "execution_count": 69,
   "metadata": {},
   "outputs": [
    {
     "data": {
      "text/plain": [
       "0.744"
      ]
     },
     "execution_count": 69,
     "metadata": {},
     "output_type": "execute_result"
    }
   ],
   "source": [
    "knn2.score(x_test, y_test)"
   ]
  }
 ],
 "metadata": {
  "kernelspec": {
   "display_name": "Python 3",
   "language": "python",
   "name": "python3"
  },
  "language_info": {
   "codemirror_mode": {
    "name": "ipython",
    "version": 3
   },
   "file_extension": ".py",
   "mimetype": "text/x-python",
   "name": "python",
   "nbconvert_exporter": "python",
   "pygments_lexer": "ipython3",
   "version": "3.6.4"
  }
 },
 "nbformat": 4,
 "nbformat_minor": 2
}
