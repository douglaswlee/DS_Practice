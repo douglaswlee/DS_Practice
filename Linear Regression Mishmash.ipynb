{
 "cells": [
  {
   "cell_type": "markdown",
   "metadata": {},
   "source": [
    "# My very own Linear Regression Class/Methods to do some common tasks"
   ]
  },
  {
   "cell_type": "markdown",
   "metadata": {},
   "source": [
    "This notebook details my attempts to create a customized class for Linear Regression that adds some functionality to do some tasks which are frequently performed in a regression workflow:\n",
    "\n",
    "* Computing residuals\n",
    "* Diagnostic plots\n",
    "* Reporting all model evaluation metrics ($R^2$, MAE, RMSE)\n",
    "* Matching coefficients to feature (column) names\n",
    "* Plotting coefficients ordered by magnitude\n",
    "\n",
    "Please note that all work here is for demo purposes and modeling is not at all the emphasis."
   ]
  },
  {
   "cell_type": "code",
   "execution_count": 1,
   "metadata": {},
   "outputs": [],
   "source": [
    "import pandas as pd\n",
    "import numpy as np\n",
    "import matplotlib.pyplot as plt\n",
    "import seaborn as sns\n",
    "import statsmodels.api as sm \n",
    "plt.style.use('fivethirtyeight')"
   ]
  },
  {
   "cell_type": "code",
   "execution_count": 2,
   "metadata": {},
   "outputs": [
    {
     "name": "stderr",
     "output_type": "stream",
     "text": [
      "/anaconda3/lib/python3.6/site-packages/sklearn/cross_validation.py:41: DeprecationWarning: This module was deprecated in version 0.18 in favor of the model_selection module into which all the refactored classes and functions are moved. Also note that the interface of the new CV iterators are different from that of this module. This module will be removed in 0.20.\n",
      "  \"This module will be removed in 0.20.\", DeprecationWarning)\n"
     ]
    }
   ],
   "source": [
    "from sklearn.linear_model import LinearRegression\n",
    "from sklearn.cross_validation import train_test_split\n",
    "from sklearn.metrics import mean_absolute_error, mean_squared_error"
   ]
  },
  {
   "cell_type": "code",
   "execution_count": 3,
   "metadata": {},
   "outputs": [],
   "source": [
    "from sklearn.datasets import load_boston\n",
    "boston = load_boston()"
   ]
  },
  {
   "cell_type": "markdown",
   "metadata": {},
   "source": [
    "So, we're going to use the well-known [Boston Housing Dataset](https://www.cs.toronto.edu/~delve/data/boston/bostonDetail.html) in this notebook, even though the modeling is not really all that important. Let's start off by seeing what happens using scikit-learn. The target, I assume, is what is denoted as the variable `MEDV` elsewhere."
   ]
  },
  {
   "cell_type": "code",
   "execution_count": 4,
   "metadata": {},
   "outputs": [],
   "source": [
    "bos = pd.DataFrame(boston.data)\n",
    "bos.columns = boston.feature_names"
   ]
  },
  {
   "cell_type": "code",
   "execution_count": 5,
   "metadata": {},
   "outputs": [],
   "source": [
    "bos['PRICE'] = boston.target"
   ]
  },
  {
   "cell_type": "code",
   "execution_count": 6,
   "metadata": {},
   "outputs": [],
   "source": [
    "X = bos.drop('PRICE', axis = 1)\n",
    "y = bos['PRICE']\n",
    "X_train, X_test, y_train, y_test = train_test_split(X, y, test_size=0.2, random_state=42)"
   ]
  },
  {
   "cell_type": "code",
   "execution_count": 7,
   "metadata": {},
   "outputs": [],
   "source": [
    "lr = LinearRegression()\n",
    "lr.fit(X_train, y_train)\n",
    "feat_names = X.columns.tolist() + ['Intercept']\n",
    "coefs = lr.coef_.tolist() + [lr.intercept_]\n",
    "coef_df = pd.DataFrame(zip(feat_names, coefs), columns=['Feature', 'Coef'])"
   ]
  },
  {
   "cell_type": "code",
   "execution_count": 8,
   "metadata": {},
   "outputs": [
    {
     "data": {
      "text/html": [
       "<div>\n",
       "<style scoped>\n",
       "    .dataframe tbody tr th:only-of-type {\n",
       "        vertical-align: middle;\n",
       "    }\n",
       "\n",
       "    .dataframe tbody tr th {\n",
       "        vertical-align: top;\n",
       "    }\n",
       "\n",
       "    .dataframe thead th {\n",
       "        text-align: right;\n",
       "    }\n",
       "</style>\n",
       "<table border=\"1\" class=\"dataframe\">\n",
       "  <thead>\n",
       "    <tr style=\"text-align: right;\">\n",
       "      <th></th>\n",
       "      <th>Feature</th>\n",
       "      <th>Coef</th>\n",
       "    </tr>\n",
       "  </thead>\n",
       "  <tbody>\n",
       "    <tr>\n",
       "      <th>0</th>\n",
       "      <td>CRIM</td>\n",
       "      <td>-0.112463</td>\n",
       "    </tr>\n",
       "    <tr>\n",
       "      <th>1</th>\n",
       "      <td>ZN</td>\n",
       "      <td>0.030081</td>\n",
       "    </tr>\n",
       "    <tr>\n",
       "      <th>2</th>\n",
       "      <td>INDUS</td>\n",
       "      <td>0.040731</td>\n",
       "    </tr>\n",
       "    <tr>\n",
       "      <th>3</th>\n",
       "      <td>CHAS</td>\n",
       "      <td>2.786767</td>\n",
       "    </tr>\n",
       "    <tr>\n",
       "      <th>4</th>\n",
       "      <td>NOX</td>\n",
       "      <td>-17.240635</td>\n",
       "    </tr>\n",
       "    <tr>\n",
       "      <th>5</th>\n",
       "      <td>RM</td>\n",
       "      <td>4.432488</td>\n",
       "    </tr>\n",
       "    <tr>\n",
       "      <th>6</th>\n",
       "      <td>AGE</td>\n",
       "      <td>-0.006240</td>\n",
       "    </tr>\n",
       "    <tr>\n",
       "      <th>7</th>\n",
       "      <td>DIS</td>\n",
       "      <td>-1.448485</td>\n",
       "    </tr>\n",
       "    <tr>\n",
       "      <th>8</th>\n",
       "      <td>RAD</td>\n",
       "      <td>0.262114</td>\n",
       "    </tr>\n",
       "    <tr>\n",
       "      <th>9</th>\n",
       "      <td>TAX</td>\n",
       "      <td>-0.010639</td>\n",
       "    </tr>\n",
       "    <tr>\n",
       "      <th>10</th>\n",
       "      <td>PTRATIO</td>\n",
       "      <td>-0.916399</td>\n",
       "    </tr>\n",
       "    <tr>\n",
       "      <th>11</th>\n",
       "      <td>B</td>\n",
       "      <td>0.012452</td>\n",
       "    </tr>\n",
       "    <tr>\n",
       "      <th>12</th>\n",
       "      <td>LSTAT</td>\n",
       "      <td>-0.509349</td>\n",
       "    </tr>\n",
       "    <tr>\n",
       "      <th>13</th>\n",
       "      <td>Intercept</td>\n",
       "      <td>30.288948</td>\n",
       "    </tr>\n",
       "  </tbody>\n",
       "</table>\n",
       "</div>"
      ],
      "text/plain": [
       "      Feature       Coef\n",
       "0        CRIM  -0.112463\n",
       "1          ZN   0.030081\n",
       "2       INDUS   0.040731\n",
       "3        CHAS   2.786767\n",
       "4         NOX -17.240635\n",
       "5          RM   4.432488\n",
       "6         AGE  -0.006240\n",
       "7         DIS  -1.448485\n",
       "8         RAD   0.262114\n",
       "9         TAX  -0.010639\n",
       "10    PTRATIO  -0.916399\n",
       "11          B   0.012452\n",
       "12      LSTAT  -0.509349\n",
       "13  Intercept  30.288948"
      ]
     },
     "execution_count": 8,
     "metadata": {},
     "output_type": "execute_result"
    }
   ],
   "source": [
    "coef_df"
   ]
  },
  {
   "cell_type": "code",
   "execution_count": 9,
   "metadata": {},
   "outputs": [
    {
     "data": {
      "text/plain": [
       "(0.7508837786732915, 0.6684825753971597)"
      ]
     },
     "execution_count": 9,
     "metadata": {},
     "output_type": "execute_result"
    }
   ],
   "source": [
    "lr.score(X_train, y_train), lr.score(X_test, y_test)"
   ]
  },
  {
   "cell_type": "code",
   "execution_count": 10,
   "metadata": {},
   "outputs": [
    {
     "name": "stdout",
     "output_type": "stream",
     "text": [
      "Mean absolute error:  3.315164531222009\n",
      "Root mean squared error:  4.652050526021356\n"
     ]
    }
   ],
   "source": [
    "y_prd = lr.predict(X_train)\n",
    "print('Mean absolute error: ' , mean_absolute_error(y_train, y_prd))\n",
    "print('Root mean squared error: ', np.sqrt(mean_squared_error(y_train, y_prd)))"
   ]
  },
  {
   "cell_type": "code",
   "execution_count": 11,
   "metadata": {},
   "outputs": [
    {
     "name": "stdout",
     "output_type": "stream",
     "text": [
      "Mean absolute error:  3.191508972274815\n",
      "Root mean squared error:  4.9306619159797815\n"
     ]
    }
   ],
   "source": [
    "y_pred = lr.predict(X_test)\n",
    "print('Mean absolute error: ' , mean_absolute_error(y_test, y_pred))\n",
    "print('Root mean squared error: ', np.sqrt(mean_squared_error(y_test, y_pred)))"
   ]
  },
  {
   "cell_type": "markdown",
   "metadata": {},
   "source": [
    "OK, now that we've seen the results using scikit-learn, let's put together a Linear Regression class of our own and see how it compares. And perhaps dig a little deeper in what everything above means (it seems a \"reasonable\" fit without much indication of over/underfitting but again, this is not our focus).\n",
    "\n",
    "The only class variable here is `fit_intercept` (whether we have a model with an intercept), which is True by default. I'm using the [normal equation](http://mlwiki.org/index.php/Normal_Equation) in the `fit` method, so the types of problems this class might be pretty limited."
   ]
  },
  {
   "cell_type": "code",
   "execution_count": 12,
   "metadata": {},
   "outputs": [],
   "source": [
    "class Linear_Regression():\n",
    "    def __init__(self, fit_intercept=True):\n",
    "        # constructor, either fit w/ intercept or not\n",
    "        self.fit_intercept = fit_intercept\n",
    "        \n",
    "    def fit(self, X, y):\n",
    "        # X (feature matrix) and y (target vector)\n",
    "        \n",
    "        # if fitting w/ intercept, add column of ones at end of X\n",
    "        if self.fit_intercept:\n",
    "            X = np.concatenate([X, np.ones([len(X), 1])], axis=1)\n",
    "            \n",
    "        # fit (get feature weights) using normal eqn    \n",
    "        b = np.dot(np.linalg.inv(np.dot(X.T, X)), np.dot(X.T, y))\n",
    "        \n",
    "        # assign (as attributes) the feature coefficients and intercept\n",
    "        self.coefs = b[:-1]\n",
    "        self.intercept = b[-1]\n",
    "        \n",
    "    def predict(self, X):\n",
    "        # for X, compute predictions using results from fit\n",
    "        return np.dot(X, self.coefs) + self.intercept if self.fit_intercept else np.dot(X, self.coefs)\n",
    "    \n",
    "    def residuals(self, X, y):\n",
    "        # for X, y, compute difference between actual and predicted target values\n",
    "        return y-self.predict(X)\n",
    "    \n",
    "    def plot_diagnostics(self, X, y):\n",
    "        # for X, y, create diagnostic plots for fit using residuals and predictions\n",
    "        \n",
    "        res = self.residuals(X,y)\n",
    "        pred = self.predict(X)\n",
    "        \n",
    "        # initialize grid of diagnostic plots\n",
    "        fig, ax = plt.subplots(2, 2, figsize=(16, 12))\n",
    "        plt.subplots_adjust(hspace=0.4)\n",
    "        \n",
    "        # Residual Histogram\n",
    "        ax[0,0].hist(res)\n",
    "        ax[0,0].set_title('Histogram of Residuals')\n",
    "        ax[0,0].set_xlabel('Residuals')\n",
    "        ax[0,0].set_ylabel('Relative Frequency')\n",
    "        ax[0,0].set_xlim(-np.max(abs(res)), np.max(abs(res)))\n",
    "        \n",
    "        # Residuals vs Predictions\n",
    "        ax[0,1].scatter(pred, res)\n",
    "        ax[0,1].set_title('Residuals vs Fitted')\n",
    "        ax[0,1].set_xlabel('Fitted Values')\n",
    "        ax[0,1].set_ylabel('Residuals')\n",
    "        \n",
    "        # Residual Q-Q plot\n",
    "        sm.qqplot(res, ax = ax[1,0], line='s')\n",
    "        ax[1,0].set_title('Normal Q-Q')\n",
    "        \n",
    "        # Residuals vs Index\n",
    "        ax[1,1].scatter(res.index, res)\n",
    "        ax[1,1].set_title('Residuals vs Index')\n",
    "        ax[1,1].set_xlabel('Index')\n",
    "        ax[1,1].set_ylabel('Residuals')\n",
    "        \n",
    "    def score(self, X, y):\n",
    "        # for X, y compute and print all metrics (R^2, RMSE<, MAE)\n",
    "        res = self.residuals(X,y)\n",
    "        print('Coefficient of Determination (R^2): ', 1 - (np.sum(res**2) / np.sum((y-np.mean(y))**2)))\n",
    "        print('Root Mean Squared Error (RMSE): ', np.sqrt(np.mean(res**2))) \n",
    "        print('Mean Absolute Error (MAE): ', np.mean(abs(res)))\n",
    "    \n",
    "    def formatted_coefs(self, X, sort=False):\n",
    "        # for X, match feature names to estimated coefficients and sort (by absolute value) if you want to sort\n",
    "        coef_df = pd.DataFrame(zip(X.columns, self.coefs), columns=['Feature Name', 'Coefficient'])\n",
    "        return pd.DataFrame(sorted(coef_df.values, key=lambda t: abs(t[1]), reverse=True), columns=coef_df.columns)\\\n",
    "            .set_index('Feature Name') if sort else coef_df\n",
    "    \n",
    "    def plot_sorted_coefs(self, X):\n",
    "        # for X, plot the sorted coefficients\n",
    "        coef_sorted = self.formatted_coefs(X, sort=True)\n",
    "        fig, ax = plt.subplots(figsize=(8,6))\n",
    "        coef_sorted.plot.barh(ax=ax).invert_yaxis()\n",
    "        ax.set_title('Model Coefficents by Importance')\n",
    "        ax.legend([])"
   ]
  },
  {
   "cell_type": "markdown",
   "metadata": {},
   "source": [
    "OK, now let's see how well this works!"
   ]
  },
  {
   "cell_type": "code",
   "execution_count": 13,
   "metadata": {},
   "outputs": [],
   "source": [
    "lr2 = Linear_Regression()"
   ]
  },
  {
   "cell_type": "code",
   "execution_count": 14,
   "metadata": {},
   "outputs": [],
   "source": [
    "lr2.fit(X_train, y_train)"
   ]
  },
  {
   "cell_type": "code",
   "execution_count": 15,
   "metadata": {},
   "outputs": [
    {
     "data": {
      "text/plain": [
       "array([-1.12463481e-01,  3.00810168e-02,  4.07309919e-02,  2.78676719e+00,\n",
       "       -1.72406347e+01,  4.43248784e+00, -6.23998173e-03, -1.44848504e+00,\n",
       "        2.62113793e-01, -1.06390978e-02, -9.16398679e-01,  1.24516469e-02,\n",
       "       -5.09349120e-01])"
      ]
     },
     "execution_count": 15,
     "metadata": {},
     "output_type": "execute_result"
    }
   ],
   "source": [
    "lr2.coefs"
   ]
  },
  {
   "cell_type": "code",
   "execution_count": 16,
   "metadata": {},
   "outputs": [
    {
     "data": {
      "text/plain": [
       "30.288948339380113"
      ]
     },
     "execution_count": 16,
     "metadata": {},
     "output_type": "execute_result"
    }
   ],
   "source": [
    "lr2.intercept"
   ]
  },
  {
   "cell_type": "markdown",
   "metadata": {},
   "source": [
    "Intercept is the same as what we get from scikit-learn but I can't just match up everything in that array of coefs that easily! Let's make it look \"nicer\":"
   ]
  },
  {
   "cell_type": "code",
   "execution_count": 17,
   "metadata": {},
   "outputs": [],
   "source": [
    "coef_df2 = lr2.formatted_coefs(X_train)"
   ]
  },
  {
   "cell_type": "code",
   "execution_count": 18,
   "metadata": {},
   "outputs": [
    {
     "data": {
      "text/html": [
       "<div>\n",
       "<style scoped>\n",
       "    .dataframe tbody tr th:only-of-type {\n",
       "        vertical-align: middle;\n",
       "    }\n",
       "\n",
       "    .dataframe tbody tr th {\n",
       "        vertical-align: top;\n",
       "    }\n",
       "\n",
       "    .dataframe thead th {\n",
       "        text-align: right;\n",
       "    }\n",
       "</style>\n",
       "<table border=\"1\" class=\"dataframe\">\n",
       "  <thead>\n",
       "    <tr style=\"text-align: right;\">\n",
       "      <th></th>\n",
       "      <th>Feature Name</th>\n",
       "      <th>Coefficient</th>\n",
       "    </tr>\n",
       "  </thead>\n",
       "  <tbody>\n",
       "    <tr>\n",
       "      <th>0</th>\n",
       "      <td>CRIM</td>\n",
       "      <td>-0.112463</td>\n",
       "    </tr>\n",
       "    <tr>\n",
       "      <th>1</th>\n",
       "      <td>ZN</td>\n",
       "      <td>0.030081</td>\n",
       "    </tr>\n",
       "    <tr>\n",
       "      <th>2</th>\n",
       "      <td>INDUS</td>\n",
       "      <td>0.040731</td>\n",
       "    </tr>\n",
       "    <tr>\n",
       "      <th>3</th>\n",
       "      <td>CHAS</td>\n",
       "      <td>2.786767</td>\n",
       "    </tr>\n",
       "    <tr>\n",
       "      <th>4</th>\n",
       "      <td>NOX</td>\n",
       "      <td>-17.240635</td>\n",
       "    </tr>\n",
       "    <tr>\n",
       "      <th>5</th>\n",
       "      <td>RM</td>\n",
       "      <td>4.432488</td>\n",
       "    </tr>\n",
       "    <tr>\n",
       "      <th>6</th>\n",
       "      <td>AGE</td>\n",
       "      <td>-0.006240</td>\n",
       "    </tr>\n",
       "    <tr>\n",
       "      <th>7</th>\n",
       "      <td>DIS</td>\n",
       "      <td>-1.448485</td>\n",
       "    </tr>\n",
       "    <tr>\n",
       "      <th>8</th>\n",
       "      <td>RAD</td>\n",
       "      <td>0.262114</td>\n",
       "    </tr>\n",
       "    <tr>\n",
       "      <th>9</th>\n",
       "      <td>TAX</td>\n",
       "      <td>-0.010639</td>\n",
       "    </tr>\n",
       "    <tr>\n",
       "      <th>10</th>\n",
       "      <td>PTRATIO</td>\n",
       "      <td>-0.916399</td>\n",
       "    </tr>\n",
       "    <tr>\n",
       "      <th>11</th>\n",
       "      <td>B</td>\n",
       "      <td>0.012452</td>\n",
       "    </tr>\n",
       "    <tr>\n",
       "      <th>12</th>\n",
       "      <td>LSTAT</td>\n",
       "      <td>-0.509349</td>\n",
       "    </tr>\n",
       "  </tbody>\n",
       "</table>\n",
       "</div>"
      ],
      "text/plain": [
       "   Feature Name  Coefficient\n",
       "0          CRIM    -0.112463\n",
       "1            ZN     0.030081\n",
       "2         INDUS     0.040731\n",
       "3          CHAS     2.786767\n",
       "4           NOX   -17.240635\n",
       "5            RM     4.432488\n",
       "6           AGE    -0.006240\n",
       "7           DIS    -1.448485\n",
       "8           RAD     0.262114\n",
       "9           TAX    -0.010639\n",
       "10      PTRATIO    -0.916399\n",
       "11            B     0.012452\n",
       "12        LSTAT    -0.509349"
      ]
     },
     "execution_count": 18,
     "metadata": {},
     "output_type": "execute_result"
    }
   ],
   "source": [
    "coef_df2"
   ]
  },
  {
   "cell_type": "markdown",
   "metadata": {},
   "source": [
    "It matches up! Now let's order them by magnitude:"
   ]
  },
  {
   "cell_type": "code",
   "execution_count": 19,
   "metadata": {},
   "outputs": [
    {
     "data": {
      "image/png": "[encoded data removed]",
      "text/plain": [
       "<Figure size 576x432 with 1 Axes>"
      ]
     },
     "metadata": {},
     "output_type": "display_data"
    }
   ],
   "source": [
    "lr2.plot_sorted_coefs(X_train)"
   ]
  },
  {
   "cell_type": "markdown",
   "metadata": {},
   "source": [
    "Let's take a look at some diagnostics now. Hmmm, looks not quite adequate for a linear model? Might make sense since we are predicting housing prices that we might need to [log-transform](https://people.duke.edu/~rnau/regex3.htm) the target here."
   ]
  },
  {
   "cell_type": "code",
   "execution_count": 20,
   "metadata": {},
   "outputs": [
    {
     "data": {
      "image/png": "[encoded data removed]",
      "text/plain": [
       "<Figure size 1152x864 with 4 Axes>"
      ]
     },
     "metadata": {},
     "output_type": "display_data"
    }
   ],
   "source": [
    "lr2.plot_diagnostics(X_train,y_train)"
   ]
  },
  {
   "cell_type": "markdown",
   "metadata": {},
   "source": [
    "Well, even though the data might need to be transformed to be accommodated by a linear model, let's evaluate it anyway and see how it compares to the fit from scikit-learn:"
   ]
  },
  {
   "cell_type": "code",
   "execution_count": 21,
   "metadata": {},
   "outputs": [
    {
     "name": "stdout",
     "output_type": "stream",
     "text": [
      "Coefficient of Determination (R^2):  0.7508837786732915\n",
      "Root Mean Squared Error (RMSE):  4.652050526021356\n",
      "Mean Absolute Error (MAE):  3.315164531221959\n"
     ]
    }
   ],
   "source": [
    "lr2.score(X_train, y_train)"
   ]
  },
  {
   "cell_type": "code",
   "execution_count": 23,
   "metadata": {},
   "outputs": [
    {
     "name": "stdout",
     "output_type": "stream",
     "text": [
      "Coefficient of Determination (R^2):  0.6684825753970853\n",
      "Root Mean Squared Error (RMSE):  4.930661915980333\n",
      "Mean Absolute Error (MAE):  3.191508972275598\n"
     ]
    }
   ],
   "source": [
    "lr2.score(X_test, y_test)"
   ]
  },
  {
   "cell_type": "markdown",
   "metadata": {},
   "source": [
    "Not bad!"
   ]
  },
  {
   "cell_type": "markdown",
   "metadata": {},
   "source": [
    "Some other functionality I could add here:\n",
    "\n",
    "* The diagnostic plots could be modified to look something like the diagnostic plots you can produce [using R](https://data.library.virginia.edu/diagnostic-plots/).\n",
    "* Diagnostic tests, like you see in [statsmodels output](https://www.statsmodels.org/devel/examples/notebooks/generated/regression_diagnostics.html).\n",
    "* Add a method for [Ridge or Lasso](http://math.bu.edu/people/cgineste/classes/ma575/p/w14_1.pdf).\n",
    "* Add a method for [standardized residuals](http://www.r-tutor.com/elementary-statistics/simple-linear-regression/standardized-residual).\n",
    "\n",
    "From a design standpoint for the class, perhaps residuals could be an attribute, like `coefs` and `intercept`?"
   ]
  }
 ],
 "metadata": {
  "kernelspec": {
   "display_name": "Python 3",
   "language": "python",
   "name": "python3"
  },
  "language_info": {
   "codemirror_mode": {
    "name": "ipython",
    "version": 3
   },
   "file_extension": ".py",
   "mimetype": "text/x-python",
   "name": "python",
   "nbconvert_exporter": "python",
   "pygments_lexer": "ipython3",
   "version": "3.6.4"
  }
 },
 "nbformat": 4,
 "nbformat_minor": 2
}
