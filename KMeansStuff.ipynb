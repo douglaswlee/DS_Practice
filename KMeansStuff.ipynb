{
 "cells": [
  {
   "cell_type": "markdown",
   "metadata": {},
   "source": [
    "## Prelim Notebook coding K-Means Clustering from scratch"
   ]
  },
  {
   "cell_type": "code",
   "execution_count": 1,
   "metadata": {},
   "outputs": [],
   "source": [
    "import pandas as pd\n",
    "import numpy as np\n",
    "import matplotlib.pyplot as plt\n",
    "plt.style.use('fivethirtyeight')\n",
    "\n",
    "from sklearn import metrics\n",
    "from sklearn.metrics import silhouette_score\n",
    "from sklearn.preprocessing import MinMaxScaler, StandardScaler\n",
    "\n",
    "from sklearn import datasets"
   ]
  },
  {
   "cell_type": "markdown",
   "metadata": {},
   "source": [
    "## A bunch of helper functions"
   ]
  },
  {
   "cell_type": "markdown",
   "metadata": {},
   "source": [
    "### For actually doing K-Means"
   ]
  },
  {
   "cell_type": "code",
   "execution_count": 2,
   "metadata": {},
   "outputs": [],
   "source": [
    "# TO DO: what to do when a cluster has no points (I think that's what happens if you have NaN in the centroids)\n",
    "# Given the data (X) and the current cluster assignments (labels), update centroids by avg'ing points in each cluster\n",
    "def get_centroids(X, labels):\n",
    "    centroids = []\n",
    "    for k in range(len(np.unique(labels))):\n",
    "        centroids.append(np.mean(X[labels == k], axis=0))\n",
    "    return np.array(centroids)\n",
    "\n",
    "# Given the data (X) and current centroids, assign each observation to a new cluster based on the closest centroid\n",
    "def assign_clusters(X, centroids):\n",
    "    return np.array([np.argmin(np.sqrt(np.sum((X[j] - centroids) ** 2, axis = 1))) for j in range(len(X))])\n",
    "\n",
    "# To perform the entire K-Means loop, get both the clusters for each point (labels) and the centroids\n",
    "def my_K_Means(X, K, tol):\n",
    "    \n",
    "    # initialize centroids randomly\n",
    "    centroids = X[np.random.choice(len(X), K)]\n",
    "    \n",
    "    # initialize \"previous\" centroids to loop\n",
    "    old = 99999 * np.ones(np.shape(centroids))\n",
    "    \n",
    "    # keep iterating while current centroids different enough from previous centroids (from last iteration)\n",
    "    while np.linalg.norm(centroids-old) > tol:\n",
    "        \n",
    "        # copy current centroids as last iteration's before updating\n",
    "        old = centroids\n",
    "        \n",
    "        # assign each point to cluster\n",
    "        labels = assign_clusters(X, centroids)\n",
    "    \n",
    "        # update centroids\n",
    "        centroids = get_centroids(X, labels)\n",
    "    return labels, centroids"
   ]
  },
  {
   "cell_type": "markdown",
   "metadata": {},
   "source": [
    "### For support in determining an appropriate value for K"
   ]
  },
  {
   "cell_type": "code",
   "execution_count": 3,
   "metadata": {},
   "outputs": [],
   "source": [
    "# Calculate inertia (sum of squared errors of each pt to its cluster centroid) for the resulting clusters\n",
    "def sse(X, labels, centroids):\n",
    "    \n",
    "    # get number of clusters\n",
    "    k = len(np.unique(labels))\n",
    "    \n",
    "    # squared errors for each cluster\n",
    "    cses = []\n",
    "    \n",
    "    for j in range(k):\n",
    "        \n",
    "        # for each cluster, get error coordinates for each point is to its centroid\n",
    "        errors = X[labels == j] - centroids[j]\n",
    "        \n",
    "        # square the errors and sum to get the squared error (magnitude) for each point\n",
    "        errors_sq = errors ** 2\n",
    "        error_mag_sq = np.sum(errors_sq, axis = 1)\n",
    "        \n",
    "        # now get total squared error for the cluster\n",
    "        cses.append(np.sum(error_mag_sq))\n",
    "    \n",
    "    # return sum of squared error over all clusters\n",
    "    return sum(cses)\n",
    "\n",
    "# Calculate silhouette coefficient (how 'coherent' the clusters are) for the resulting clusters\n",
    "def silhouette(X, labels):\n",
    "    \n",
    "    # coefficients for each point\n",
    "    sil = []\n",
    "\n",
    "    for j in range(len(X)):\n",
    "        \n",
    "        # for each point get the average distance to each other point in its cluster\n",
    "        a = np.sum(np.sqrt(np.sum((X[j] - X[labels == labels[j]]) ** 2, axis=1))) / (len(X[labels == labels[j]]) - 1)\n",
    "\n",
    "        # also get average distance to each other cluster (distance to each point in each given cluster)\n",
    "        # get the cluster with minimum average distance to the point\n",
    "        intra_dists = []\n",
    "        for k in np.unique(labels):\n",
    "            if labels[j] != k:\n",
    "                intra_dists.append(np.mean(np.sqrt(np.sum((X[j] - X[labels == k]) ** 2, axis=1))))\n",
    "        b = min(intra_dists)\n",
    "        \n",
    "        # calculate this point's silhouette coefficient\n",
    "        sil.append((b-a) / max(a,b))\n",
    "    \n",
    "    # return the average coefficient over all points\n",
    "    return np.mean(sil)"
   ]
  },
  {
   "cell_type": "markdown",
   "metadata": {},
   "source": [
    "## Now, an illustrative example using the Iris dataset"
   ]
  },
  {
   "cell_type": "code",
   "execution_count": 4,
   "metadata": {},
   "outputs": [],
   "source": [
    "iris = datasets.load_iris()\n",
    "X = iris.data\n",
    "y = iris.target"
   ]
  },
  {
   "cell_type": "markdown",
   "metadata": {},
   "source": [
    "Let's start out by trying to determine an appropriate value of K, performing K-Means clustering on the data for a range of potential Ks and looking at the inertia (Elbow Method) and silhouette coefficients."
   ]
  },
  {
   "cell_type": "code",
   "execution_count": 5,
   "metadata": {},
   "outputs": [],
   "source": [
    "np.random.seed(1)\n",
    "sils = []\n",
    "sses = []\n",
    "\n",
    "for k in range(2,10):\n",
    "    labels, centroids = my_K_Means(X, k, .0001)\n",
    "    sils.append(silhouette(X, labels))\n",
    "    sses.append(sse(X, labels, centroids))"
   ]
  },
  {
   "cell_type": "code",
   "execution_count": 6,
   "metadata": {},
   "outputs": [
    {
     "data": {
      "text/plain": [
       "Text(0, 0.5, 'Silhouette coefficient')"
      ]
     },
     "execution_count": 6,
     "metadata": {},
     "output_type": "execute_result"
    },
    {
     "data": {
      "image/png": "[encoded data removed]",
      "text/plain": [
       "<Figure size 1080x360 with 2 Axes>"
      ]
     },
     "metadata": {},
     "output_type": "display_data"
    }
   ],
   "source": [
    "fig, (ax1, ax2) = plt.subplots(1,2, figsize=(15,5), sharex=True)\n",
    "k_clusters = range(2,10)\n",
    "\n",
    "ax1.plot(k_clusters, sses)\n",
    "ax1.set_xlabel('Number of clusters')\n",
    "ax1.set_ylabel('Inertia');\n",
    "\n",
    "ax2.plot(k_clusters, sils)\n",
    "ax2.set_xlabel('Number of clusters')\n",
    "ax2.set_ylabel('Silhouette coefficient')"
   ]
  },
  {
   "cell_type": "markdown",
   "metadata": {},
   "source": [
    "Looks as if the K = 3 clusters seems appropriate -- and of course there are only 3 labels in the actual data!"
   ]
  },
  {
   "cell_type": "code",
   "execution_count": 7,
   "metadata": {},
   "outputs": [
    {
     "data": {
      "text/plain": [
       "array([0, 0, 0, 0, 0, 0, 0, 0, 0, 0, 0, 0, 0, 0, 0, 0, 0, 0, 0, 0, 0, 0,\n",
       "       0, 0, 0, 0, 0, 0, 0, 0, 0, 0, 0, 0, 0, 0, 0, 0, 0, 0, 0, 0, 0, 0,\n",
       "       0, 0, 0, 0, 0, 0, 1, 1, 1, 1, 1, 1, 1, 1, 1, 1, 1, 1, 1, 1, 1, 1,\n",
       "       1, 1, 1, 1, 1, 1, 1, 1, 1, 1, 1, 1, 1, 1, 1, 1, 1, 1, 1, 1, 1, 1,\n",
       "       1, 1, 1, 1, 1, 1, 1, 1, 1, 1, 1, 1, 2, 2, 2, 2, 2, 2, 2, 2, 2, 2,\n",
       "       2, 2, 2, 2, 2, 2, 2, 2, 2, 2, 2, 2, 2, 2, 2, 2, 2, 2, 2, 2, 2, 2,\n",
       "       2, 2, 2, 2, 2, 2, 2, 2, 2, 2, 2, 2, 2, 2, 2, 2, 2, 2])"
      ]
     },
     "execution_count": 7,
     "metadata": {},
     "output_type": "execute_result"
    }
   ],
   "source": [
    "y"
   ]
  },
  {
   "cell_type": "markdown",
   "metadata": {},
   "source": [
    "Now, let's look deeper at our model for K = 3 clusters:"
   ]
  },
  {
   "cell_type": "code",
   "execution_count": 8,
   "metadata": {},
   "outputs": [],
   "source": [
    "lbl, cent = my_K_Means(X, 3, .0001)"
   ]
  },
  {
   "cell_type": "code",
   "execution_count": 9,
   "metadata": {},
   "outputs": [
    {
     "data": {
      "text/plain": [
       "array([[5.006     , 3.418     , 1.464     , 0.244     ],\n",
       "       [6.85384615, 3.07692308, 5.71538462, 2.05384615],\n",
       "       [5.88360656, 2.74098361, 4.38852459, 1.43442623]])"
      ]
     },
     "execution_count": 9,
     "metadata": {},
     "output_type": "execute_result"
    }
   ],
   "source": [
    "cent # centroid locations"
   ]
  },
  {
   "cell_type": "code",
   "execution_count": 10,
   "metadata": {},
   "outputs": [
    {
     "data": {
      "text/plain": [
       "array([0, 0, 0, 0, 0, 0, 0, 0, 0, 0, 0, 0, 0, 0, 0, 0, 0, 0, 0, 0, 0, 0,\n",
       "       0, 0, 0, 0, 0, 0, 0, 0, 0, 0, 0, 0, 0, 0, 0, 0, 0, 0, 0, 0, 0, 0,\n",
       "       0, 0, 0, 0, 0, 0, 1, 2, 1, 2, 2, 2, 2, 2, 2, 2, 2, 2, 2, 2, 2, 2,\n",
       "       2, 2, 2, 2, 2, 2, 2, 2, 2, 2, 2, 1, 2, 2, 2, 2, 2, 2, 2, 2, 2, 2,\n",
       "       2, 2, 2, 2, 2, 2, 2, 2, 2, 2, 2, 2, 1, 2, 1, 1, 1, 1, 2, 1, 1, 1,\n",
       "       1, 1, 1, 2, 2, 1, 1, 1, 1, 2, 1, 2, 1, 2, 1, 1, 2, 2, 1, 1, 1, 1,\n",
       "       1, 2, 1, 1, 1, 1, 2, 1, 1, 1, 2, 1, 1, 1, 2, 1, 1, 2])"
      ]
     },
     "execution_count": 10,
     "metadata": {},
     "output_type": "execute_result"
    }
   ],
   "source": [
    "lbl # clusters for each point"
   ]
  },
  {
   "cell_type": "markdown",
   "metadata": {},
   "source": [
    "Let's compare to scikit-learn as well:"
   ]
  },
  {
   "cell_type": "code",
   "execution_count": 11,
   "metadata": {},
   "outputs": [],
   "source": [
    "from sklearn.cluster import KMeans"
   ]
  },
  {
   "cell_type": "code",
   "execution_count": 12,
   "metadata": {},
   "outputs": [],
   "source": [
    "kmeans = KMeans(n_clusters=3).fit(X)"
   ]
  },
  {
   "cell_type": "code",
   "execution_count": 13,
   "metadata": {},
   "outputs": [
    {
     "data": {
      "text/plain": [
       "array([[6.85      , 3.07368421, 5.74210526, 2.07105263],\n",
       "       [5.006     , 3.418     , 1.464     , 0.244     ],\n",
       "       [5.9016129 , 2.7483871 , 4.39354839, 1.43387097]])"
      ]
     },
     "execution_count": 13,
     "metadata": {},
     "output_type": "execute_result"
    }
   ],
   "source": [
    "kmeans.cluster_centers_ # centroid locations"
   ]
  },
  {
   "cell_type": "code",
   "execution_count": 14,
   "metadata": {},
   "outputs": [
    {
     "data": {
      "text/plain": [
       "array([1, 1, 1, 1, 1, 1, 1, 1, 1, 1, 1, 1, 1, 1, 1, 1, 1, 1, 1, 1, 1, 1,\n",
       "       1, 1, 1, 1, 1, 1, 1, 1, 1, 1, 1, 1, 1, 1, 1, 1, 1, 1, 1, 1, 1, 1,\n",
       "       1, 1, 1, 1, 1, 1, 2, 2, 0, 2, 2, 2, 2, 2, 2, 2, 2, 2, 2, 2, 2, 2,\n",
       "       2, 2, 2, 2, 2, 2, 2, 2, 2, 2, 2, 0, 2, 2, 2, 2, 2, 2, 2, 2, 2, 2,\n",
       "       2, 2, 2, 2, 2, 2, 2, 2, 2, 2, 2, 2, 0, 2, 0, 0, 0, 0, 2, 0, 0, 0,\n",
       "       0, 0, 0, 2, 2, 0, 0, 0, 0, 2, 0, 2, 0, 2, 0, 0, 2, 2, 0, 0, 0, 0,\n",
       "       0, 2, 0, 0, 0, 0, 2, 0, 0, 0, 2, 0, 0, 0, 2, 0, 0, 2], dtype=int32)"
      ]
     },
     "execution_count": 14,
     "metadata": {},
     "output_type": "execute_result"
    }
   ],
   "source": [
    "# clusters for each point\n",
    "lbl_sklearn = kmeans.labels_\n",
    "lbl_sklearn"
   ]
  },
  {
   "cell_type": "markdown",
   "metadata": {},
   "source": [
    "Looks not bad -- let's just make a dictionary to match up the cluster labels using each method."
   ]
  },
  {
   "cell_type": "code",
   "execution_count": 15,
   "metadata": {},
   "outputs": [],
   "source": [
    "label_match = {0: 1, 1: 0, 2: 2}"
   ]
  },
  {
   "cell_type": "code",
   "execution_count": 16,
   "metadata": {},
   "outputs": [
    {
     "data": {
      "text/plain": [
       "array([0, 0, 0, 0, 0, 0, 0, 0, 0, 0, 0, 0, 0, 0, 0, 0, 0, 0, 0, 0, 0, 0,\n",
       "       0, 0, 0, 0, 0, 0, 0, 0, 0, 0, 0, 0, 0, 0, 0, 0, 0, 0, 0, 0, 0, 0,\n",
       "       0, 0, 0, 0, 0, 0, 2, 2, 1, 2, 2, 2, 2, 2, 2, 2, 2, 2, 2, 2, 2, 2,\n",
       "       2, 2, 2, 2, 2, 2, 2, 2, 2, 2, 2, 1, 2, 2, 2, 2, 2, 2, 2, 2, 2, 2,\n",
       "       2, 2, 2, 2, 2, 2, 2, 2, 2, 2, 2, 2, 1, 2, 1, 1, 1, 1, 2, 1, 1, 1,\n",
       "       1, 1, 1, 2, 2, 1, 1, 1, 1, 2, 1, 2, 1, 2, 1, 1, 2, 2, 1, 1, 1, 1,\n",
       "       1, 2, 1, 1, 1, 1, 2, 1, 1, 1, 2, 1, 1, 1, 2, 1, 1, 2])"
      ]
     },
     "execution_count": 16,
     "metadata": {},
     "output_type": "execute_result"
    }
   ],
   "source": [
    "lbl_sklearn_match = [label_match[k] for k in lbl_sklearn]\n",
    "np.array(lbl_sklearn_match)"
   ]
  },
  {
   "cell_type": "code",
   "execution_count": 17,
   "metadata": {},
   "outputs": [
    {
     "data": {
      "text/plain": [
       "0.9933333333333333"
      ]
     },
     "execution_count": 17,
     "metadata": {},
     "output_type": "execute_result"
    }
   ],
   "source": [
    "# how many match between my code and scikit-learn\n",
    "sum(lbl == lbl_sklearn_match) / len(lbl)"
   ]
  },
  {
   "cell_type": "markdown",
   "metadata": {},
   "source": [
    "I guess that's OK! Now let's take a look at how we performed w.r.t. the actual labels (from `y`)"
   ]
  },
  {
   "cell_type": "code",
   "execution_count": 18,
   "metadata": {},
   "outputs": [
    {
     "data": {
      "text/plain": [
       "array([0, 0, 0, 0, 0, 0, 0, 0, 0, 0, 0, 0, 0, 0, 0, 0, 0, 0, 0, 0, 0, 0,\n",
       "       0, 0, 0, 0, 0, 0, 0, 0, 0, 0, 0, 0, 0, 0, 0, 0, 0, 0, 0, 0, 0, 0,\n",
       "       0, 0, 0, 0, 0, 0, 2, 2, 2, 2, 2, 2, 2, 2, 2, 2, 2, 2, 2, 2, 2, 2,\n",
       "       2, 2, 2, 2, 2, 2, 2, 2, 2, 2, 2, 2, 2, 2, 2, 2, 2, 2, 2, 2, 2, 2,\n",
       "       2, 2, 2, 2, 2, 2, 2, 2, 2, 2, 2, 2, 1, 1, 1, 1, 1, 1, 1, 1, 1, 1,\n",
       "       1, 1, 1, 1, 1, 1, 1, 1, 1, 1, 1, 1, 1, 1, 1, 1, 1, 1, 1, 1, 1, 1,\n",
       "       1, 1, 1, 1, 1, 1, 1, 1, 1, 1, 1, 1, 1, 1, 1, 1, 1, 1])"
      ]
     },
     "execution_count": 18,
     "metadata": {},
     "output_type": "execute_result"
    }
   ],
   "source": [
    "actual_label_match = {0: 0, 1: 2, 2: 1}\n",
    "y_lbl = [actual_label_match[k] for k in y]\n",
    "np.array(y_lbl)"
   ]
  },
  {
   "cell_type": "code",
   "execution_count": 19,
   "metadata": {},
   "outputs": [
    {
     "data": {
      "text/plain": [
       "0.8866666666666667"
      ]
     },
     "execution_count": 19,
     "metadata": {},
     "output_type": "execute_result"
    }
   ],
   "source": [
    "# my_acc = np.mean(lbl == y_lbl)\n",
    "my_acc = np.mean([lbl[k] == y_lbl[k] for k in range(len(lbl))])\n",
    "my_acc"
   ]
  },
  {
   "cell_type": "code",
   "execution_count": 20,
   "metadata": {},
   "outputs": [
    {
     "data": {
      "text/plain": [
       "0.8933333333333333"
      ]
     },
     "execution_count": 20,
     "metadata": {},
     "output_type": "execute_result"
    }
   ],
   "source": [
    "sklearn_acc = np.mean([lbl_sklearn_match[k] == y_lbl[k] for k in range(len(y_lbl))])\n",
    "# sklearn_acc = np.mean(lbl_sklearn_match == y_lbl) #why doesn't this work?\n",
    "sklearn_acc"
   ]
  },
  {
   "cell_type": "markdown",
   "metadata": {},
   "source": [
    "Again, I guess that's not all that bad, and not far off from the output from scikit-learn."
   ]
  }
 ],
 "metadata": {
  "kernelspec": {
   "display_name": "Python 3",
   "language": "python",
   "name": "python3"
  },
  "language_info": {
   "codemirror_mode": {
    "name": "ipython",
    "version": 3
   },
   "file_extension": ".py",
   "mimetype": "text/x-python",
   "name": "python",
   "nbconvert_exporter": "python",
   "pygments_lexer": "ipython3",
   "version": "3.6.4"
  }
 },
 "nbformat": 4,
 "nbformat_minor": 2
}
